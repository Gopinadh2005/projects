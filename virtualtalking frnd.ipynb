{
 "cells": [
  {
   "cell_type": "code",
   "execution_count": 4,
   "id": "0d6d8893-ed88-43ec-a335-d0420a3746b2",
   "metadata": {},
   "outputs": [
    {
     "name": "stdout",
     "output_type": "stream",
     "text": [
      "Requirement already satisfied: pyttsx3 in c:\\python311\\lib\\site-packages (2.98)\n",
      "Requirement already satisfied: comtypes in c:\\python311\\lib\\site-packages (from pyttsx3) (1.4.10)\n",
      "Requirement already satisfied: pypiwin32 in c:\\python311\\lib\\site-packages (from pyttsx3) (223)\n",
      "Requirement already satisfied: pywin32 in c:\\python311\\lib\\site-packages (from pyttsx3) (308)\n",
      "Note: you may need to restart the kernel to use updated packages.\n"
     ]
    },
    {
     "name": "stderr",
     "output_type": "stream",
     "text": [
      "\n",
      "[notice] A new release of pip is available: 24.0 -> 25.0.1\n",
      "[notice] To update, run: python.exe -m pip install --upgrade pip\n"
     ]
    }
   ],
   "source": [
    "pip install pyttsx3\n"
   ]
  },
  {
   "cell_type": "code",
   "execution_count": 21,
   "id": "0050563f-b450-4049-865f-dc94e00d701b",
   "metadata": {},
   "outputs": [
    {
     "name": "stdout",
     "output_type": "stream",
     "text": [
      "speaking....\n"
     ]
    },
    {
     "name": "stdin",
     "output_type": "stream",
     "text": [
      "What should I say: hii buddy \n"
     ]
    },
    {
     "name": "stdout",
     "output_type": "stream",
     "text": [
      "speaking....\n"
     ]
    },
    {
     "name": "stdin",
     "output_type": "stream",
     "text": [
      "What should I say: how r u\n"
     ]
    },
    {
     "name": "stdout",
     "output_type": "stream",
     "text": [
      "speaking....\n"
     ]
    },
    {
     "name": "stdin",
     "output_type": "stream",
     "text": [
      "What should I say: i am good\n"
     ]
    },
    {
     "name": "stdout",
     "output_type": "stream",
     "text": [
      "speaking....\n"
     ]
    },
    {
     "name": "stdin",
     "output_type": "stream",
     "text": [
      "What should I say: bye\n"
     ]
    },
    {
     "name": "stdout",
     "output_type": "stream",
     "text": [
      "speaking....\n"
     ]
    }
   ],
   "source": [
    "import pyttsx3\n",
    "\n",
    "vtf=pyttsx3.init()\n",
    "\n",
    "\"\"\"RATE\"\"\"\n",
    "rate=vtf.getProperty('rate')\n",
    "vtf.setProperty('rate',140)\n",
    "\n",
    "\n",
    "def vtf_speak(txt):\n",
    "   print(\"speaking....\")\n",
    "   vtf.say(txt)\n",
    "   vtf.runAndWait()\n",
    "\n",
    "txt=\"Hello!,Buddy Iam a virtual Talking Friend\"\n",
    "vtf_speak(txt)\n",
    "txt=input(\"What should I say:\")\n",
    "vtf_speak(txt)\n",
    "\n",
    "while txt!='bye':\n",
    "    txt=input(\"What should I say:\")\n",
    "    txt=txt.lower()\n",
    "    #vtf_speak(txt)\n",
    "    if txt!='bye':\n",
    "        vtf_speak(txt)\n",
    "    else:\n",
    "        vtf_speak(\"See you Again, My friend!\")"
   ]
  },
  {
   "cell_type": "code",
   "execution_count": 2,
   "id": "81e60d52-9e48-431a-8744-0834788cdf0a",
   "metadata": {},
   "outputs": [
    {
     "name": "stdout",
     "output_type": "stream",
     "text": [
      "Requirement already satisfied: pywhatkit in c:\\python311\\lib\\site-packages (5.4)\n",
      "Requirement already satisfied: Pillow in c:\\python311\\lib\\site-packages (from pywhatkit) (11.0.0)\n",
      "Requirement already satisfied: pyautogui in c:\\python311\\lib\\site-packages (from pywhatkit) (0.9.54)\n",
      "Requirement already satisfied: requests in c:\\python311\\lib\\site-packages (from pywhatkit) (2.32.3)\n",
      "Requirement already satisfied: wikipedia in c:\\python311\\lib\\site-packages (from pywhatkit) (1.4.0)\n",
      "Requirement already satisfied: Flask in c:\\python311\\lib\\site-packages (from pywhatkit) (3.1.0)\n",
      "Requirement already satisfied: Werkzeug>=3.1 in c:\\python311\\lib\\site-packages (from Flask->pywhatkit) (3.1.3)\n",
      "Requirement already satisfied: Jinja2>=3.1.2 in c:\\python311\\lib\\site-packages (from Flask->pywhatkit) (3.1.4)\n",
      "Requirement already satisfied: itsdangerous>=2.2 in c:\\python311\\lib\\site-packages (from Flask->pywhatkit) (2.2.0)\n",
      "Requirement already satisfied: click>=8.1.3 in c:\\python311\\lib\\site-packages (from Flask->pywhatkit) (8.1.8)\n",
      "Requirement already satisfied: blinker>=1.9 in c:\\python311\\lib\\site-packages (from Flask->pywhatkit) (1.9.0)\n",
      "Requirement already satisfied: pymsgbox in c:\\python311\\lib\\site-packages (from pyautogui->pywhatkit) (1.0.9)\n",
      "Requirement already satisfied: pytweening>=1.0.4 in c:\\python311\\lib\\site-packages (from pyautogui->pywhatkit) (1.2.0)\n",
      "Requirement already satisfied: pyscreeze>=0.1.21 in c:\\python311\\lib\\site-packages (from pyautogui->pywhatkit) (1.0.1)\n",
      "Requirement already satisfied: pygetwindow>=0.0.5 in c:\\python311\\lib\\site-packages (from pyautogui->pywhatkit) (0.0.9)\n",
      "Requirement already satisfied: mouseinfo in c:\\python311\\lib\\site-packages (from pyautogui->pywhatkit) (0.1.3)\n",
      "Requirement already satisfied: charset-normalizer<4,>=2 in c:\\python311\\lib\\site-packages (from requests->pywhatkit) (3.4.0)\n",
      "Requirement already satisfied: idna<4,>=2.5 in c:\\python311\\lib\\site-packages (from requests->pywhatkit) (3.10)\n",
      "Requirement already satisfied: urllib3<3,>=1.21.1 in c:\\python311\\lib\\site-packages (from requests->pywhatkit) (2.2.3)\n",
      "Requirement already satisfied: certifi>=2017.4.17 in c:\\python311\\lib\\site-packages (from requests->pywhatkit) (2024.8.30)\n",
      "Requirement already satisfied: beautifulsoup4 in c:\\python311\\lib\\site-packages (from wikipedia->pywhatkit) (4.12.3)\n",
      "Requirement already satisfied: colorama in c:\\python311\\lib\\site-packages (from click>=8.1.3->Flask->pywhatkit) (0.4.6)\n",
      "Requirement already satisfied: MarkupSafe>=2.0 in c:\\python311\\lib\\site-packages (from Jinja2>=3.1.2->Flask->pywhatkit) (3.0.2)\n",
      "Requirement already satisfied: pyrect in c:\\python311\\lib\\site-packages (from pygetwindow>=0.0.5->pyautogui->pywhatkit) (0.2.0)\n",
      "Requirement already satisfied: soupsieve>1.2 in c:\\python311\\lib\\site-packages (from beautifulsoup4->wikipedia->pywhatkit) (2.6)\n",
      "Requirement already satisfied: pyperclip in c:\\python311\\lib\\site-packages (from mouseinfo->pyautogui->pywhatkit) (1.9.0)\n",
      "Note: you may need to restart the kernel to use updated packages.\n"
     ]
    },
    {
     "name": "stderr",
     "output_type": "stream",
     "text": [
      "\n",
      "[notice] A new release of pip is available: 24.0 -> 25.0.1\n",
      "[notice] To update, run: python.exe -m pip install --upgrade pip\n"
     ]
    }
   ],
   "source": [
    "pip install pywhatkit\n"
   ]
  },
  {
   "cell_type": "code",
   "execution_count": 3,
   "id": "0359d1a9-d5dc-4106-8c9b-2d06fcc390fc",
   "metadata": {},
   "outputs": [
    {
     "name": "stdout",
     "output_type": "stream",
     "text": [
      "In 69 Seconds WhatsApp will open and after 15 Seconds Message will be Delivered!\n"
     ]
    }
   ],
   "source": [
    "import pywhatkit\n",
    "pywhatkit.sendwhatmsg('+91 9390177485','Good morning!',7,50)"
   ]
  },
  {
   "cell_type": "code",
   "execution_count": 1,
   "id": "68f50aad-4f06-4735-989d-1fa879628b93",
   "metadata": {},
   "outputs": [
    {
     "name": "stdout",
     "output_type": "stream",
     "text": [
      "Requirement already satisfied: PyAutoGUI in c:\\python311\\lib\\site-packages (0.9.54)Note: you may need to restart the kernel to use updated packages.\n"
     ]
    },
    {
     "name": "stderr",
     "output_type": "stream",
     "text": [
      "\n",
      "[notice] A new release of pip is available: 24.0 -> 25.0.1\n",
      "[notice] To update, run: python.exe -m pip install --upgrade pip\n"
     ]
    },
    {
     "name": "stdout",
     "output_type": "stream",
     "text": [
      "\n",
      "Requirement already satisfied: pymsgbox in c:\\python311\\lib\\site-packages (from PyAutoGUI) (1.0.9)\n",
      "Requirement already satisfied: pytweening>=1.0.4 in c:\\python311\\lib\\site-packages (from PyAutoGUI) (1.2.0)\n",
      "Requirement already satisfied: pyscreeze>=0.1.21 in c:\\python311\\lib\\site-packages (from PyAutoGUI) (1.0.1)\n",
      "Requirement already satisfied: pygetwindow>=0.0.5 in c:\\python311\\lib\\site-packages (from PyAutoGUI) (0.0.9)\n",
      "Requirement already satisfied: mouseinfo in c:\\python311\\lib\\site-packages (from PyAutoGUI) (0.1.3)\n",
      "Requirement already satisfied: pyrect in c:\\python311\\lib\\site-packages (from pygetwindow>=0.0.5->PyAutoGUI) (0.2.0)\n",
      "Requirement already satisfied: Pillow>=9.3.0 in c:\\python311\\lib\\site-packages (from pyscreeze>=0.1.21->PyAutoGUI) (11.0.0)\n",
      "Requirement already satisfied: pyperclip in c:\\python311\\lib\\site-packages (from mouseinfo->PyAutoGUI) (1.9.0)\n"
     ]
    }
   ],
   "source": [
    "pip install PyAutoGUI"
   ]
  },
  {
   "cell_type": "code",
   "execution_count": 3,
   "id": "0401b0ea-7d96-49fd-9ce3-12bb4e6961b6",
   "metadata": {},
   "outputs": [
    {
     "ename": "KeyboardInterrupt",
     "evalue": "",
     "output_type": "error",
     "traceback": [
      "\u001b[1;31m---------------------------------------------------------------------------\u001b[0m",
      "\u001b[1;31mKeyboardInterrupt\u001b[0m                         Traceback (most recent call last)",
      "Cell \u001b[1;32mIn[3], line 5\u001b[0m\n\u001b[0;32m      2\u001b[0m \u001b[38;5;28;01mimport\u001b[39;00m \u001b[38;5;21;01mtime\u001b[39;00m\n\u001b[0;32m      4\u001b[0m \u001b[38;5;28;01mwhile\u001b[39;00m \u001b[38;5;28;01mTrue\u001b[39;00m:\n\u001b[1;32m----> 5\u001b[0m     time\u001b[38;5;241m.\u001b[39msleep(\u001b[38;5;241m10\u001b[39m)\n\u001b[0;32m      6\u001b[0m     \u001b[38;5;28;01mfor\u001b[39;00m i \u001b[38;5;129;01min\u001b[39;00m \u001b[38;5;28mrange\u001b[39m(\u001b[38;5;241m0\u001b[39m,\u001b[38;5;241m100\u001b[39m):\n\u001b[0;32m      7\u001b[0m        pyautogui\u001b[38;5;241m.\u001b[39mmoveTo(\u001b[38;5;241m250\u001b[39m,i\u001b[38;5;241m*\u001b[39m\u001b[38;5;241m5\u001b[39m)\n",
      "\u001b[1;31mKeyboardInterrupt\u001b[0m: "
     ]
    }
   ],
   "source": [
    "#Mouse Automation using python\n",
    "import pyautogui\n",
    "import time\n",
    "sleeptime=float(input('Please Enter sleep time(in min):'))\n",
    "while sleeptime==0 or sleeptime<0.5:\n",
    "    sleeptime=float(input('Please Enter sleep time(more than or equal to 0.5 in min):'))\n",
    "\n",
    "if sleeptime<1:\n",
    "   print('ok sir,I will move ur mouse after every',sleeptime*60,'minutes')\n",
    "elif sleeptime==1:\n",
    "   print('ok sir,I will move ur mouse after every',sleeptime,'minute') \n",
    "else:\n",
    "    print('ok sir,I will move ur mouse after every',sleeptime,'minutes')\n",
    "while True:\n",
    "    time.sleep(sleeptime)\n",
    "    for i in range(0,100):\n",
    "       pyautogui.moveTo(250,i*5)"
   ]
  },
  {
   "cell_type": "code",
   "execution_count": null,
   "id": "c0eef3d3-b3b3-4851-bbed-9a6760f1bf1d",
   "metadata": {},
   "outputs": [],
   "source": []
  }
 ],
 "metadata": {
  "kernelspec": {
   "display_name": "Python 3 (ipykernel)",
   "language": "python",
   "name": "python3"
  },
  "language_info": {
   "codemirror_mode": {
    "name": "ipython",
    "version": 3
   },
   "file_extension": ".py",
   "mimetype": "text/x-python",
   "name": "python",
   "nbconvert_exporter": "python",
   "pygments_lexer": "ipython3",
   "version": "3.11.8"
  }
 },
 "nbformat": 4,
 "nbformat_minor": 5
}
